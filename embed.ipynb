{
 "metadata": {
  "name": "",
  "signature": "sha256:d568910bf2fa2d142d539532d485f328c7b813af5953f4981542714fcef86733"
 },
 "nbformat": 3,
 "nbformat_minor": 0,
 "worksheets": [
  {
   "cells": [
    {
     "cell_type": "code",
     "collapsed": true,
     "input": [
      "def vtk_show(renderer, w=100, h=100):\n",
      "    \"\"\"\n",
      "    Takes vtkRenderer instance and returns an IPython Image with the rendering.\n",
      "    \"\"\"\n",
      "    if 0:\n",
      "        renderWindow = vtk.vtkRenderWindow()\n",
      "        #renderWindow.SetOffScreenRendering(1)\n",
      "        renderWindow.AddRenderer(renderer)\n",
      "        renderWindow.SetSize(w, h)\n",
      "        renderWindow.Render()\n",
      "     \n",
      "    else:\n",
      "        renderWindow = vtk.vtkRenderWindow()\n",
      "        renderWindow.AddRenderer(renderer)\n",
      "        renderWindow.SetSize(w, h)\n",
      "        \n",
      "        interactor = vtk.vtkRenderWindowInteractor()\n",
      "        interactor.SetRenderWindow(renderWindow)\n",
      "        renderWindow.Render()\n",
      "        interactor.Start()\n",
      "\n",
      "    windowToImageFilter = vtk.vtkWindowToImageFilter()\n",
      "    windowToImageFilter.SetInput(renderWindow)\n",
      "    windowToImageFilter.Update()\n",
      "     \n",
      "    writer = vtk.vtkPNGWriter()\n",
      "    writer.SetWriteToMemory(1)\n",
      "    writer.SetInputConnection(windowToImageFilter.GetOutputPort())\n",
      "    writer.Write()\n",
      "    data = str(buffer(writer.GetResult()))\n",
      "    \n",
      "    from IPython.display import Image\n",
      "    return Image(data)"
     ],
     "language": "python",
     "metadata": {},
     "outputs": [],
     "prompt_number": 7
    },
    {
     "cell_type": "code",
     "collapsed": false,
     "input": [
      "#from vtk import (vtkSphereSource, vtkPolyDataMapper, vtkActor, vtkRenderer,\n",
      "#        vtkRenderWindow, vtkWindowToImageFilter, vtkPNGWriter, vtkRenderWindowInteractor)\n",
      "import vtk\n",
      " \n",
      "sphereSource = vtk.vtkSphereSource()\n",
      "sphereSource.SetPhiResolution(200)\n",
      "sphereSource.SetThetaResolution(200)\n",
      "mapper = vtk.vtkPolyDataMapper()\n",
      "mapper.SetInputConnection(sphereSource.GetOutputPort())\n",
      " \n",
      "actor = vtk.vtkActor()\n",
      "actor.SetMapper(mapper)\n",
      "actor.GetProperty().SetColor(1,1,0)\n",
      " \n",
      "renderer = vtk.vtkRenderer()\n",
      "renderer.AddActor(actor)\n",
      "renderer.SetBackground(1, 1, 1)\n",
      "\n",
      "vtk_show(renderer, 200, 200)"
     ],
     "language": "python",
     "metadata": {},
     "outputs": [
      {
       "metadata": {},
       "output_type": "pyout",
       "png": "[encoded data removed]",
       "prompt_number": 8,
       "text": [
        "<IPython.core.display.Image at 0x7f4eec14ad10>"
       ]
      }
     ],
     "prompt_number": 8
    }
   ],
   "metadata": {}
  }
 ]
}