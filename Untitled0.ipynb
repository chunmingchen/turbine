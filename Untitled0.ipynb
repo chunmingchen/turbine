{
 "metadata": {
  "name": "",
  "signature": "sha256:be627fac7550754acfe333e32e40ed631d92d4c93a1ae6196ab198a45b58f6ff"
 },
 "nbformat": 3,
 "nbformat_minor": 0,
 "worksheets": [
  {
   "cells": [
    {
     "cell_type": "code",
     "collapsed": false,
     "input": [
      "import sys\n",
      "import os\n",
      "import numpy\n",
      "import flowvis\n",
      "from scipy import stats\n",
      "from  math import *\n",
      "print (sys.version)\n",
      "\n",
      "import os\n",
      "try:\n",
      "    user_paths = os.environ['PYTHONPATH'].split(os.pathsep)\n",
      "    print (user_paths)\n",
      "except KeyError:\n",
      "    user_paths = []"
     ],
     "language": "python",
     "metadata": {},
     "outputs": [
      {
       "output_type": "stream",
       "stream": "stdout",
       "text": [
        "2.7.8 |Anaconda 2.1.0 (64-bit)| (default, Aug 21 2014, 18:22:21) \n",
        "[GCC 4.4.7 20120313 (Red Hat 4.4.7-1)]\n",
        "['', '/home/chenchu/Project/lib/python', '/home/chenchu/Project/lib/python', '/home/chenchu/Project/vtk_build/Wrapping/Python', '/home/chenchu/Project/lib/python', '/home/chenchu/Project/vtk_build/Wrapping/Python', '/home/chenchu/Project/vtk_build/Wrapping/Python/vtk', '/home/chenchu/Project/lib/python', '/home/chenchu/Project/vtk_build/Wrapping/Python', '/home/chenchu/Project/vtk_build/Wrapping/Python/vtk', '/home/chenchu/Project/lib/python', '/home/chenchu/Project/vtk_build/Wrapping/Python', '/home/chenchu/Project/vtk_build/Wrapping/Python/vtk', '/data/Project/vtk_build/lib/', '/home/chenchu/Project/lib/python', '/home/chenchu/Project/vtk_build/Wrapping/Python', '/home/chenchu/Project/vtk_build/Wrapping/Python/vtk', '/data/Project/vtk_build/lib/']\n"
       ]
      }
     ],
     "prompt_number": 1
    },
    {
     "cell_type": "code",
     "collapsed": false,
     "input": [
      "import vtk\n"
     ],
     "language": "python",
     "metadata": {},
     "outputs": [],
     "prompt_number": 2
    }
   ],
   "metadata": {}
  }
 ]
}